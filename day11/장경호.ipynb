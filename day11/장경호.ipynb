{
 "cells": [
  {
   "cell_type": "markdown",
   "metadata": {},
   "source": [
    "## 1번 문제"
   ]
  },
  {
   "cell_type": "code",
   "execution_count": 17,
   "metadata": {},
   "outputs": [
    {
     "name": "stdout",
     "output_type": "stream",
     "text": [
      "남성입니다\n"
     ]
    }
   ],
   "source": [
    "id_number = input('주민번호를 입력하세요( - 포함 )')\n",
    "gender = id_number [7]\n",
    "if  gender == '4' or gender == '2' or gender == '6' :\n",
    "    print(\"여성입니다\")\n",
    "elif gender == '1' or gender == '3' or gender == '5':\n",
    "    print(\"남성입니다\")\n",
    "else : print('주민번호를 다시 입력하세요')\n"
   ]
  },
  {
   "cell_type": "markdown",
   "metadata": {},
   "source": [
    "## 2번 문제"
   ]
  },
  {
   "cell_type": "code",
   "execution_count": 34,
   "metadata": {},
   "outputs": [
    {
     "name": "stdout",
     "output_type": "stream",
     "text": [
      "오늘은 금요일 입니다.\n"
     ]
    }
   ],
   "source": [
    "def main():\n",
    "    date = {\n",
    "        'MON': '월요일',\n",
    "        'TUE': '화요일',\n",
    "        'WED': '수요일',\n",
    "        'TUR': '목요일',\n",
    "        'FRI': '금요일',\n",
    "        'SAT': '토요일',\n",
    "        'SUN': '일요일'\n",
    "        }\n",
    "    day = input(\"(MON, TUE, WED, TUR, FRI, SAT, SUN)중 대문자로 입력하세요 : \")\n",
    "    if day in date:\n",
    "        k_day = date[day]\n",
    "        print(f\"오늘은 {k_day} 입니다.\")\n",
    "    else:\n",
    "        print(\"다시 입력해 주세요\")\n",
    "\n",
    "if __name__ == \"__main__\":\n",
    "    main()\n"
   ]
  },
  {
   "cell_type": "markdown",
   "metadata": {},
   "source": [
    "## 3번 문제"
   ]
  },
  {
   "cell_type": "code",
   "execution_count": 14,
   "metadata": {},
   "outputs": [
    {
     "name": "stdout",
     "output_type": "stream",
     "text": [
      "환영합니다 고객님~!\n"
     ]
    }
   ],
   "source": [
    "age = int(input('당신의 나이는 : '))\n",
    "if age < 19:\n",
    "    print('애들은 가라')\n",
    "else:\n",
    "    print('환영합니다 고객님~!')\n"
   ]
  },
  {
   "cell_type": "markdown",
   "metadata": {},
   "source": [
    "## 4번 문제"
   ]
  },
  {
   "cell_type": "code",
   "execution_count": 13,
   "metadata": {},
   "outputs": [],
   "source": [
    "f = open('F://Source/Java-BigData-2024/day11/result.txt', mode='w', encoding='utf-8')\n",
    "num = 1\n",
    "\n",
    "while num <= 1000:\n",
    "    if num % 3 == 0 and num % 5 == 0:\n",
    "        print(num, file = f)\n",
    "    num += 1\n",
    "\n",
    "f.close()"
   ]
  },
  {
   "cell_type": "markdown",
   "metadata": {},
   "source": [
    "## 5번 문제"
   ]
  },
  {
   "cell_type": "code",
   "execution_count": 32,
   "metadata": {},
   "outputs": [
    {
     "name": "stdout",
     "output_type": "stream",
     "text": [
      "2024\\03%07 10**18//52\n"
     ]
    }
   ],
   "source": [
    "import datetime as time\n",
    "\n",
    "now = time.datetime.now() \n",
    "print(f'{now.year}\\\\{now.month:02d}%{now.day:02d} {now.hour}**{now.minute}//{now.second}')"
   ]
  }
 ],
 "metadata": {
  "kernelspec": {
   "display_name": "Python 3",
   "language": "python",
   "name": "python3"
  },
  "language_info": {
   "codemirror_mode": {
    "name": "ipython",
    "version": 3
   },
   "file_extension": ".py",
   "mimetype": "text/x-python",
   "name": "python",
   "nbconvert_exporter": "python",
   "pygments_lexer": "ipython3",
   "version": "3.12.2"
  }
 },
 "nbformat": 4,
 "nbformat_minor": 2
}
